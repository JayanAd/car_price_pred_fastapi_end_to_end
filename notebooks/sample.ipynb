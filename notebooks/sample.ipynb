{
 "cells": [
  {
   "cell_type": "code",
   "execution_count": null,
   "id": "9711552d",
   "metadata": {},
   "outputs": [],
   "source": [
    "import pandas as pd\n",
    "from sklearn.model_selection import train_test_split\n",
    "from sklearn.pipeline import Pipeline\n",
    "from sklearn.compose import ColumnTransformer\n",
    "from sklearn.impute import SimpleImputer\n",
    "from sklearn.preprocessing import StandardScaler, OneHotEncoder\n",
    "from sklearn.ensemble import RandomForestRegressor\n",
    "from sklearn.metrics import root_mean_squared_error\n"
   ]
  },
  {
   "cell_type": "code",
   "execution_count": 2,
   "id": "eec3d36d",
   "metadata": {},
   "outputs": [
    {
     "data": {
      "text/html": [
       "<div>\n",
       "<style scoped>\n",
       "    .dataframe tbody tr th:only-of-type {\n",
       "        vertical-align: middle;\n",
       "    }\n",
       "\n",
       "    .dataframe tbody tr th {\n",
       "        vertical-align: top;\n",
       "    }\n",
       "\n",
       "    .dataframe thead th {\n",
       "        text-align: right;\n",
       "    }\n",
       "</style>\n",
       "<table border=\"1\" class=\"dataframe\">\n",
       "  <thead>\n",
       "    <tr style=\"text-align: right;\">\n",
       "      <th></th>\n",
       "      <th>name</th>\n",
       "      <th>company</th>\n",
       "      <th>model</th>\n",
       "      <th>edition</th>\n",
       "      <th>year</th>\n",
       "      <th>owner</th>\n",
       "      <th>fuel</th>\n",
       "      <th>seller_type</th>\n",
       "      <th>transmission</th>\n",
       "      <th>km_driven</th>\n",
       "      <th>mileage_mpg</th>\n",
       "      <th>engine_cc</th>\n",
       "      <th>max_power_bhp</th>\n",
       "      <th>torque_nm</th>\n",
       "      <th>seats</th>\n",
       "      <th>selling_price</th>\n",
       "    </tr>\n",
       "  </thead>\n",
       "  <tbody>\n",
       "    <tr>\n",
       "      <th>1988</th>\n",
       "      <td>Maruti Wagon R LXI Minor</td>\n",
       "      <td>Maruti</td>\n",
       "      <td>Wagon</td>\n",
       "      <td>R LXI Minor</td>\n",
       "      <td>2009</td>\n",
       "      <td>Fourth &amp; Above</td>\n",
       "      <td>Petrol</td>\n",
       "      <td>Individual</td>\n",
       "      <td>Manual</td>\n",
       "      <td>120000</td>\n",
       "      <td>44.40</td>\n",
       "      <td>1061.0</td>\n",
       "      <td>67.00</td>\n",
       "      <td>84.0</td>\n",
       "      <td>5.0</td>\n",
       "      <td>125000</td>\n",
       "    </tr>\n",
       "    <tr>\n",
       "      <th>1763</th>\n",
       "      <td>Datsun RediGO T</td>\n",
       "      <td>Datsun</td>\n",
       "      <td>RediGO</td>\n",
       "      <td>T</td>\n",
       "      <td>2017</td>\n",
       "      <td>First</td>\n",
       "      <td>Petrol</td>\n",
       "      <td>Individual</td>\n",
       "      <td>Manual</td>\n",
       "      <td>25000</td>\n",
       "      <td>53.34</td>\n",
       "      <td>799.0</td>\n",
       "      <td>53.64</td>\n",
       "      <td>72.0</td>\n",
       "      <td>5.0</td>\n",
       "      <td>300000</td>\n",
       "    </tr>\n",
       "    <tr>\n",
       "      <th>1130</th>\n",
       "      <td>Maruti Ciaz VDi Plus SHVS</td>\n",
       "      <td>Maruti</td>\n",
       "      <td>Ciaz</td>\n",
       "      <td>VDi Plus SHVS</td>\n",
       "      <td>2015</td>\n",
       "      <td>First</td>\n",
       "      <td>Diesel</td>\n",
       "      <td>Individual</td>\n",
       "      <td>Manual</td>\n",
       "      <td>84000</td>\n",
       "      <td>66.00</td>\n",
       "      <td>1248.0</td>\n",
       "      <td>88.50</td>\n",
       "      <td>200.0</td>\n",
       "      <td>5.0</td>\n",
       "      <td>650000</td>\n",
       "    </tr>\n",
       "    <tr>\n",
       "      <th>5956</th>\n",
       "      <td>Hyundai Verna 1.6 CRDI</td>\n",
       "      <td>Hyundai</td>\n",
       "      <td>Verna</td>\n",
       "      <td>1.6 CRDI</td>\n",
       "      <td>2011</td>\n",
       "      <td>First</td>\n",
       "      <td>Diesel</td>\n",
       "      <td>Individual</td>\n",
       "      <td>Manual</td>\n",
       "      <td>108000</td>\n",
       "      <td>52.44</td>\n",
       "      <td>1582.0</td>\n",
       "      <td>126.30</td>\n",
       "      <td>259.9</td>\n",
       "      <td>5.0</td>\n",
       "      <td>450000</td>\n",
       "    </tr>\n",
       "    <tr>\n",
       "      <th>1800</th>\n",
       "      <td>Maruti Vitara Brezza ZDi</td>\n",
       "      <td>Maruti</td>\n",
       "      <td>Vitara</td>\n",
       "      <td>Brezza ZDi</td>\n",
       "      <td>2018</td>\n",
       "      <td>First</td>\n",
       "      <td>Diesel</td>\n",
       "      <td>Dealer</td>\n",
       "      <td>Manual</td>\n",
       "      <td>58511</td>\n",
       "      <td>57.10</td>\n",
       "      <td>1248.0</td>\n",
       "      <td>88.50</td>\n",
       "      <td>200.0</td>\n",
       "      <td>5.0</td>\n",
       "      <td>950000</td>\n",
       "    </tr>\n",
       "  </tbody>\n",
       "</table>\n",
       "</div>"
      ],
      "text/plain": [
       "                           name  company   model        edition  year  \\\n",
       "1988   Maruti Wagon R LXI Minor   Maruti   Wagon    R LXI Minor  2009   \n",
       "1763            Datsun RediGO T   Datsun  RediGO              T  2017   \n",
       "1130  Maruti Ciaz VDi Plus SHVS   Maruti    Ciaz  VDi Plus SHVS  2015   \n",
       "5956     Hyundai Verna 1.6 CRDI  Hyundai   Verna       1.6 CRDI  2011   \n",
       "1800   Maruti Vitara Brezza ZDi   Maruti  Vitara     Brezza ZDi  2018   \n",
       "\n",
       "               owner    fuel seller_type transmission  km_driven  mileage_mpg  \\\n",
       "1988  Fourth & Above  Petrol  Individual       Manual     120000        44.40   \n",
       "1763           First  Petrol  Individual       Manual      25000        53.34   \n",
       "1130           First  Diesel  Individual       Manual      84000        66.00   \n",
       "5956           First  Diesel  Individual       Manual     108000        52.44   \n",
       "1800           First  Diesel      Dealer       Manual      58511        57.10   \n",
       "\n",
       "      engine_cc  max_power_bhp  torque_nm  seats  selling_price  \n",
       "1988     1061.0          67.00       84.0    5.0         125000  \n",
       "1763      799.0          53.64       72.0    5.0         300000  \n",
       "1130     1248.0          88.50      200.0    5.0         650000  \n",
       "5956     1582.0         126.30      259.9    5.0         450000  \n",
       "1800     1248.0          88.50      200.0    5.0         950000  "
      ]
     },
     "execution_count": 2,
     "metadata": {},
     "output_type": "execute_result"
    }
   ],
   "source": [
    "df = pd.read_csv(\"car_details.csv\")\n",
    "df.sample(5)"
   ]
  },
  {
   "cell_type": "code",
   "execution_count": 3,
   "id": "023286ad",
   "metadata": {},
   "outputs": [
    {
     "name": "stdout",
     "output_type": "stream",
     "text": [
      "<class 'pandas.core.frame.DataFrame'>\n",
      "RangeIndex: 6926 entries, 0 to 6925\n",
      "Data columns (total 16 columns):\n",
      " #   Column         Non-Null Count  Dtype  \n",
      "---  ------         --------------  -----  \n",
      " 0   name           6926 non-null   object \n",
      " 1   company        6926 non-null   object \n",
      " 2   model          6926 non-null   object \n",
      " 3   edition        6926 non-null   object \n",
      " 4   year           6926 non-null   int64  \n",
      " 5   owner          6926 non-null   object \n",
      " 6   fuel           6926 non-null   object \n",
      " 7   seller_type    6926 non-null   object \n",
      " 8   transmission   6926 non-null   object \n",
      " 9   km_driven      6926 non-null   int64  \n",
      " 10  mileage_mpg    6718 non-null   float64\n",
      " 11  engine_cc      6718 non-null   float64\n",
      " 12  max_power_bhp  6717 non-null   float64\n",
      " 13  torque_nm      6717 non-null   float64\n",
      " 14  seats          6718 non-null   float64\n",
      " 15  selling_price  6926 non-null   int64  \n",
      "dtypes: float64(5), int64(3), object(8)\n",
      "memory usage: 865.9+ KB\n"
     ]
    }
   ],
   "source": [
    "df.info()"
   ]
  },
  {
   "cell_type": "code",
   "execution_count": 4,
   "id": "10fbd3fc",
   "metadata": {},
   "outputs": [
    {
     "data": {
      "text/plain": [
       "name               0\n",
       "company            0\n",
       "model              0\n",
       "edition            0\n",
       "year               0\n",
       "owner              0\n",
       "fuel               0\n",
       "seller_type        0\n",
       "transmission       0\n",
       "km_driven          0\n",
       "mileage_mpg      208\n",
       "engine_cc        208\n",
       "max_power_bhp    209\n",
       "torque_nm        209\n",
       "seats            208\n",
       "selling_price      0\n",
       "dtype: int64"
      ]
     },
     "execution_count": 4,
     "metadata": {},
     "output_type": "execute_result"
    }
   ],
   "source": [
    "df.isna().sum()"
   ]
  },
  {
   "cell_type": "code",
   "execution_count": 5,
   "id": "66bcb034",
   "metadata": {},
   "outputs": [
    {
     "data": {
      "text/plain": [
       "(6926, 16)"
      ]
     },
     "execution_count": 5,
     "metadata": {},
     "output_type": "execute_result"
    }
   ],
   "source": [
    "df.shape"
   ]
  },
  {
   "cell_type": "code",
   "execution_count": 12,
   "id": "383e6398",
   "metadata": {},
   "outputs": [
    {
     "name": "stdout",
     "output_type": "stream",
     "text": [
      "Column: name\n",
      "Cardinality: 2058\n",
      "['Maruti Swift Dzire VDI' 'Skoda Rapid 1.5 TDI Ambition'\n",
      " 'Honda City 2017-2020 EXi' ... 'Tata Nexon 1.5 Revotorq XT'\n",
      " 'Ford Freestyle Titanium Plus Diesel BSIV'\n",
      " 'Toyota Innova 2.5 GX (Diesel) 8 Seater BS IV']\n",
      "name\n",
      "Maruti Swift Dzire VDI                          0.017037\n",
      "Maruti Alto 800 LXI                             0.010973\n",
      "Maruti Alto LXi                                 0.009962\n",
      "Maruti Swift VDI                                0.008663\n",
      "Maruti Swift VDI BSIV                           0.008085\n",
      "                                                  ...   \n",
      "Mahindra KUV 100 G80 K4 Plus                    0.000144\n",
      "Hyundai Getz 1.1 GVS                            0.000144\n",
      "Maruti 800 EX BSII                              0.000144\n",
      "Datsun GO T Option                              0.000144\n",
      "Toyota Innova 2.5 GX (Diesel) 8 Seater BS IV    0.000144\n",
      "Name: proportion, Length: 2058, dtype: float64\n",
      "\n",
      "Column: company\n",
      "Cardinality: 32\n",
      "['Maruti' 'Skoda' 'Honda' 'Hyundai' 'Toyota' 'Ford' 'Renault' 'Mahindra'\n",
      " 'Tata' 'Chevrolet' 'Fiat' 'Datsun' 'Jeep' 'Mercedes-Benz' 'Mitsubishi'\n",
      " 'Audi' 'Volkswagen' 'BMW' 'Nissan' 'Lexus' 'Jaguar' 'Land' 'MG' 'Volvo'\n",
      " 'Daewoo' 'Kia' 'Force' 'Ambassador' 'Ashok' 'Isuzu' 'Opel' 'Peugeot']\n",
      "company\n",
      "Maruti           0.312590\n",
      "Hyundai          0.182934\n",
      "Mahindra         0.104389\n",
      "Tata             0.093416\n",
      "Honda            0.052267\n",
      "Ford             0.052122\n",
      "Toyota           0.051545\n",
      "Chevrolet        0.031187\n",
      "Renault          0.029743\n",
      "Volkswagen       0.025123\n",
      "Nissan           0.010540\n",
      "Skoda            0.010107\n",
      "Datsun           0.008230\n",
      "BMW              0.006786\n",
      "Mercedes-Benz    0.006642\n",
      "Fiat             0.006353\n",
      "Audi             0.004765\n",
      "Jeep             0.003176\n",
      "Mitsubishi       0.001588\n",
      "Volvo            0.001299\n",
      "Jaguar           0.001155\n",
      "Isuzu            0.000578\n",
      "Ambassador       0.000578\n",
      "Force            0.000578\n",
      "Kia              0.000433\n",
      "Land             0.000433\n",
      "Daewoo           0.000433\n",
      "MG               0.000433\n",
      "Ashok            0.000144\n",
      "Lexus            0.000144\n",
      "Opel             0.000144\n",
      "Peugeot          0.000144\n",
      "Name: proportion, dtype: float64\n",
      "\n",
      "Column: model\n",
      "Cardinality: 207\n",
      "['Swift' 'Rapid' 'City' 'i20' 'Xcent' 'Wagon' '800' 'Etios' 'Figo'\n",
      " 'Duster' 'Zen' 'KUV' 'Ertiga' 'Alto' 'Verito' 'WR-V' 'SX4' 'Tigor'\n",
      " 'Baleno' 'Enjoy' 'Omni' 'Vitara' 'Palio' 'Verna' 'GO' 'Safari' 'Compass'\n",
      " 'Fortuner' 'Innova' 'B' 'Amaze' 'Pajero' 'Ciaz' 'Jazz' 'A6' 'Corolla'\n",
      " 'New' 'Manza' 'i10' 'Ameo' 'Indica' 'Vento' 'EcoSport' 'X1' 'Celerio'\n",
      " 'Polo' 'Eeco' 'Scorpio' 'Freestyle' 'Passat' 'XUV500' 'Indigo' 'Terrano'\n",
      " 'Creta' 'KWID' 'Santro' 'Q5' 'ES' 'XF' 'Wrangler' 'Rover' 'S-Class' '5'\n",
      " 'X4' 'Superb' 'E-Class' 'Hector' 'XC40' 'Q7' 'Elantra' 'XE' 'Nexon' 'CLA'\n",
      " 'Glanza' '3' 'Camry' 'XC90' 'Ritz' 'Grand' 'Matiz' 'Zest' 'Getz' 'Elite'\n",
      " 'Brio' 'Hexa' 'Sunny' 'Micra' 'Ssangyong' 'Quanto' 'Accent' 'Ignis'\n",
      " 'Marazzo' 'Tiago' 'Thar' 'Sumo' 'Bolero' 'GL-Class' 'Beat' 'Willys'\n",
      " 'A-Star' 'XUV300' 'Nano' 'GTI' 'V40' 'CR-V' 'EON' 'RediGO' 'Captiva'\n",
      " 'Fiesta' 'Seltos' 'Civic' 'Sail' 'Venture' 'Estilo' 'Classic' 'BR-V'\n",
      " 'Ecosport' 'Aria' 'TUV' 'Bolt' 'Accord' 'Xylo' 'Grande' 'S-Cross' 'Yaris'\n",
      " 'Tavera' 'Linea' 'Endeavour' 'Aveo' 'Esteem' 'Triber' 'Fusion' 'Octavia'\n",
      " 'A4' 'XL6' 'Santa' 'Spark' 'Aspire' 'Punto' 'Optra' 'Mobilio' 'Qualis'\n",
      " 'BRV' 'X6' 'Cruze' 'GLA' '6' 'NuvoSport' 'Scala' 'Jeep' 'Lodgy' 'Pulse'\n",
      " 'Supro' 'Ingenio' 'Sonata' 'Renault' 'Kicks' 'Jetta' 'M-Class' 'Teana'\n",
      " 'Yeti' 'Q3' 'Gurkha' 'Logan' 'A3' 'Dzire' 'Ikon' 'Fluence' 'Xenon' 'One'\n",
      " '7' 'S60' 'Lancer' 'X7' 'Premio' 'Fabia' 'Platinum' 'Captur' 'Gypsy'\n",
      " 'Estate' 'Koleos' 'CLASSIC' 'Harrier' 'Multivan' 'Avventura' 'Laura'\n",
      " 'Leyland' 'MUX' 'Astra' 'Tucson' 'Winger' 'Spacio' 'Venue' 'CrossPolo'\n",
      " 'Marshal' 'Kodiaq' 'D-Max' 'X3' 'Land' 'X5' '309' 'Trailblazer' 'MU'\n",
      " 'GLC' 'XC60' 'S90' 'S-Presso']\n",
      "model\n",
      "Swift       0.096737\n",
      "Alto        0.057031\n",
      "i20         0.043748\n",
      "Wagon       0.035374\n",
      "Innova      0.027144\n",
      "              ...   \n",
      "XC90        0.000144\n",
      "Multivan    0.000144\n",
      "CLA         0.000144\n",
      "Leyland     0.000144\n",
      "S-Presso    0.000144\n",
      "Name: proportion, Length: 207, dtype: float64\n",
      "\n",
      "Column: edition\n",
      "Cardinality: 1916\n",
      "['Dzire VDI' '1.5 TDI Ambition' '2017-2020 EXi' ... '1.5 Revotorq XT'\n",
      " 'Titanium Plus Diesel BSIV' '2.5 GX (Diesel) 8 Seater BS IV']\n",
      "edition\n",
      "Dzire VDI                         0.017037\n",
      "VDI                               0.015305\n",
      "800 LXI                           0.010973\n",
      "LXi                               0.010540\n",
      "LX                                0.010396\n",
      "                                    ...   \n",
      "Cross Country D3                  0.000144\n",
      "1.6 EXi NXt                       0.000144\n",
      "Diesel 1.5 DLS                    0.000144\n",
      "K10 LX                            0.000144\n",
      "2.5 GX (Diesel) 8 Seater BS IV    0.000144\n",
      "Name: proportion, Length: 1916, dtype: float64\n",
      "\n",
      "Column: owner\n",
      "Cardinality: 5\n",
      "['First' 'Second' 'Third' 'Fourth & Above' 'Test Drive Car']\n",
      "owner\n",
      "First             0.612475\n",
      "Second            0.285013\n",
      "Third             0.077390\n",
      "Fourth & Above    0.024401\n",
      "Test Drive Car    0.000722\n",
      "Name: proportion, dtype: float64\n",
      "\n",
      "Column: fuel\n",
      "Cardinality: 4\n",
      "['Diesel' 'Petrol' 'LPG' 'CNG']\n",
      "fuel\n",
      "Diesel    0.542160\n",
      "Petrol    0.444268\n",
      "CNG       0.008085\n",
      "LPG       0.005487\n",
      "Name: proportion, dtype: float64\n",
      "\n",
      "Column: seller_type\n",
      "Cardinality: 3\n",
      "['Individual' 'Dealer' 'Trustmark Dealer']\n",
      "seller_type\n",
      "Individual          0.897776\n",
      "Dealer              0.098325\n",
      "Trustmark Dealer    0.003898\n",
      "Name: proportion, dtype: float64\n",
      "\n",
      "Column: transmission\n",
      "Cardinality: 2\n",
      "['Manual' 'Automatic']\n",
      "transmission\n",
      "Manual       0.91568\n",
      "Automatic    0.08432\n",
      "Name: proportion, dtype: float64\n",
      "\n"
     ]
    }
   ],
   "source": [
    "for col in df.select_dtypes(include=\"O\").columns:\n",
    "    print(f\"Column: {col}\")\n",
    "    print(f\"Cardinality: {df[col].nunique()}\")\n",
    "    print(df[col].unique())\n",
    "    print(df[col].value_counts(normalize=True))\n",
    "    print()"
   ]
  },
  {
   "cell_type": "code",
   "execution_count": 13,
   "id": "1b016cf1",
   "metadata": {},
   "outputs": [],
   "source": [
    "df = df.drop(columns=[\"name\",\"model\",\"edition\"])"
   ]
  },
  {
   "cell_type": "code",
   "execution_count": null,
   "id": "4053ff91",
   "metadata": {},
   "outputs": [
    {
     "data": {
      "text/plain": [
       "19"
      ]
     },
     "execution_count": 15,
     "metadata": {},
     "output_type": "execute_result"
    }
   ],
   "source": [
    "df.duplicated().sum()"
   ]
  },
  {
   "cell_type": "code",
   "execution_count": 16,
   "id": "db25f611",
   "metadata": {},
   "outputs": [],
   "source": [
    "df.drop_duplicates(inplace=True)"
   ]
  },
  {
   "cell_type": "code",
   "execution_count": 17,
   "id": "f53eeeb4",
   "metadata": {},
   "outputs": [
    {
     "data": {
      "text/plain": [
       "0"
      ]
     },
     "execution_count": 17,
     "metadata": {},
     "output_type": "execute_result"
    }
   ],
   "source": [
    "df.duplicated().sum()"
   ]
  },
  {
   "cell_type": "code",
   "execution_count": 18,
   "id": "19f84f94",
   "metadata": {},
   "outputs": [
    {
     "name": "stdout",
     "output_type": "stream",
     "text": [
      "(6907, 12) (6907,)\n"
     ]
    }
   ],
   "source": [
    "X = df.drop(columns=\"selling_price\")\n",
    "y = df.selling_price.copy()\n",
    "\n",
    "print(X.shape, y.shape)"
   ]
  },
  {
   "cell_type": "code",
   "execution_count": 20,
   "id": "241c0478",
   "metadata": {},
   "outputs": [
    {
     "name": "stdout",
     "output_type": "stream",
     "text": [
      "(5525, 12) (5525,)\n",
      "(1382, 12) (1382,)\n"
     ]
    }
   ],
   "source": [
    "X_train,X_test, y_train, y_test = train_test_split(X,y,test_size=0.2, random_state=42)\n",
    "\n",
    "print(X_train.shape, y_train.shape)\n",
    "print(X_test.shape, y_test.shape)\n"
   ]
  },
  {
   "cell_type": "code",
   "execution_count": 23,
   "id": "7bac7df2",
   "metadata": {},
   "outputs": [
    {
     "name": "stdout",
     "output_type": "stream",
     "text": [
      "['year', 'km_driven', 'mileage_mpg', 'engine_cc', 'max_power_bhp', 'torque_nm', 'seats'] ['company', 'owner', 'fuel', 'seller_type', 'transmission']\n"
     ]
    }
   ],
   "source": [
    "num_cols = X_train.select_dtypes(include=\"number\").columns.tolist()\n",
    "cat_cols = [col for col in X_train.columns if col not in num_cols]\n",
    "print(num_cols, cat_cols)"
   ]
  },
  {
   "cell_type": "code",
   "execution_count": 27,
   "id": "2b9d54f3",
   "metadata": {},
   "outputs": [
    {
     "data": {
      "text/html": [
       "<style>#sk-container-id-1 {color: black;}#sk-container-id-1 pre{padding: 0;}#sk-container-id-1 div.sk-toggleable {background-color: white;}#sk-container-id-1 label.sk-toggleable__label {cursor: pointer;display: block;width: 100%;margin-bottom: 0;padding: 0.3em;box-sizing: border-box;text-align: center;}#sk-container-id-1 label.sk-toggleable__label-arrow:before {content: \"▸\";float: left;margin-right: 0.25em;color: #696969;}#sk-container-id-1 label.sk-toggleable__label-arrow:hover:before {color: black;}#sk-container-id-1 div.sk-estimator:hover label.sk-toggleable__label-arrow:before {color: black;}#sk-container-id-1 div.sk-toggleable__content {max-height: 0;max-width: 0;overflow: hidden;text-align: left;background-color: #f0f8ff;}#sk-container-id-1 div.sk-toggleable__content pre {margin: 0.2em;color: black;border-radius: 0.25em;background-color: #f0f8ff;}#sk-container-id-1 input.sk-toggleable__control:checked~div.sk-toggleable__content {max-height: 200px;max-width: 100%;overflow: auto;}#sk-container-id-1 input.sk-toggleable__control:checked~label.sk-toggleable__label-arrow:before {content: \"▾\";}#sk-container-id-1 div.sk-estimator input.sk-toggleable__control:checked~label.sk-toggleable__label {background-color: #d4ebff;}#sk-container-id-1 div.sk-label input.sk-toggleable__control:checked~label.sk-toggleable__label {background-color: #d4ebff;}#sk-container-id-1 input.sk-hidden--visually {border: 0;clip: rect(1px 1px 1px 1px);clip: rect(1px, 1px, 1px, 1px);height: 1px;margin: -1px;overflow: hidden;padding: 0;position: absolute;width: 1px;}#sk-container-id-1 div.sk-estimator {font-family: monospace;background-color: #f0f8ff;border: 1px dotted black;border-radius: 0.25em;box-sizing: border-box;margin-bottom: 0.5em;}#sk-container-id-1 div.sk-estimator:hover {background-color: #d4ebff;}#sk-container-id-1 div.sk-parallel-item::after {content: \"\";width: 100%;border-bottom: 1px solid gray;flex-grow: 1;}#sk-container-id-1 div.sk-label:hover label.sk-toggleable__label {background-color: #d4ebff;}#sk-container-id-1 div.sk-serial::before {content: \"\";position: absolute;border-left: 1px solid gray;box-sizing: border-box;top: 0;bottom: 0;left: 50%;z-index: 0;}#sk-container-id-1 div.sk-serial {display: flex;flex-direction: column;align-items: center;background-color: white;padding-right: 0.2em;padding-left: 0.2em;position: relative;}#sk-container-id-1 div.sk-item {position: relative;z-index: 1;}#sk-container-id-1 div.sk-parallel {display: flex;align-items: stretch;justify-content: center;background-color: white;position: relative;}#sk-container-id-1 div.sk-item::before, #sk-container-id-1 div.sk-parallel-item::before {content: \"\";position: absolute;border-left: 1px solid gray;box-sizing: border-box;top: 0;bottom: 0;left: 50%;z-index: -1;}#sk-container-id-1 div.sk-parallel-item {display: flex;flex-direction: column;z-index: 1;position: relative;background-color: white;}#sk-container-id-1 div.sk-parallel-item:first-child::after {align-self: flex-end;width: 50%;}#sk-container-id-1 div.sk-parallel-item:last-child::after {align-self: flex-start;width: 50%;}#sk-container-id-1 div.sk-parallel-item:only-child::after {width: 0;}#sk-container-id-1 div.sk-dashed-wrapped {border: 1px dashed gray;margin: 0 0.4em 0.5em 0.4em;box-sizing: border-box;padding-bottom: 0.4em;background-color: white;}#sk-container-id-1 div.sk-label label {font-family: monospace;font-weight: bold;display: inline-block;line-height: 1.2em;}#sk-container-id-1 div.sk-label-container {text-align: center;}#sk-container-id-1 div.sk-container {/* jupyter's `normalize.less` sets `[hidden] { display: none; }` but bootstrap.min.css set `[hidden] { display: none !important; }` so we also need the `!important` here to be able to override the default hidden behavior on the sphinx rendered scikit-learn.org. See: https://github.com/scikit-learn/scikit-learn/issues/21755 */display: inline-block !important;position: relative;}#sk-container-id-1 div.sk-text-repr-fallback {display: none;}</style><div id=\"sk-container-id-1\" class=\"sk-top-container\"><div class=\"sk-text-repr-fallback\"><pre>Pipeline(steps=[(&#x27;pre&#x27;,\n",
       "                 ColumnTransformer(transformers=[(&#x27;num&#x27;,\n",
       "                                                  Pipeline(steps=[(&#x27;imputer&#x27;,\n",
       "                                                                   SimpleImputer(strategy=&#x27;median&#x27;)),\n",
       "                                                                  (&#x27;scaler&#x27;,\n",
       "                                                                   StandardScaler())]),\n",
       "                                                  [&#x27;year&#x27;, &#x27;km_driven&#x27;,\n",
       "                                                   &#x27;mileage_mpg&#x27;, &#x27;engine_cc&#x27;,\n",
       "                                                   &#x27;max_power_bhp&#x27;, &#x27;torque_nm&#x27;,\n",
       "                                                   &#x27;seats&#x27;]),\n",
       "                                                 (&#x27;cat&#x27;,\n",
       "                                                  Pipeline(steps=[(&#x27;imputer&#x27;,\n",
       "                                                                   SimpleImputer(fill_value=&#x27;missing&#x27;,\n",
       "                                                                                 strategy=&#x27;constant&#x27;)),\n",
       "                                                                  (&#x27;encoder&#x27;,\n",
       "                                                                   OneHotEncoder(handle_unknown=&#x27;ignore&#x27;,\n",
       "                                                                                 sparse_output=False))]),\n",
       "                                                  [&#x27;company&#x27;, &#x27;owner&#x27;, &#x27;fuel&#x27;,\n",
       "                                                   &#x27;seller_type&#x27;,\n",
       "                                                   &#x27;transmission&#x27;])])),\n",
       "                (&#x27;reg&#x27;,\n",
       "                 RandomForestRegressor(max_depth=5, n_estimators=10,\n",
       "                                       random_state=42))])</pre><b>In a Jupyter environment, please rerun this cell to show the HTML representation or trust the notebook. <br />On GitHub, the HTML representation is unable to render, please try loading this page with nbviewer.org.</b></div><div class=\"sk-container\" hidden><div class=\"sk-item sk-dashed-wrapped\"><div class=\"sk-label-container\"><div class=\"sk-label sk-toggleable\"><input class=\"sk-toggleable__control sk-hidden--visually\" id=\"sk-estimator-id-1\" type=\"checkbox\" ><label for=\"sk-estimator-id-1\" class=\"sk-toggleable__label sk-toggleable__label-arrow\">Pipeline</label><div class=\"sk-toggleable__content\"><pre>Pipeline(steps=[(&#x27;pre&#x27;,\n",
       "                 ColumnTransformer(transformers=[(&#x27;num&#x27;,\n",
       "                                                  Pipeline(steps=[(&#x27;imputer&#x27;,\n",
       "                                                                   SimpleImputer(strategy=&#x27;median&#x27;)),\n",
       "                                                                  (&#x27;scaler&#x27;,\n",
       "                                                                   StandardScaler())]),\n",
       "                                                  [&#x27;year&#x27;, &#x27;km_driven&#x27;,\n",
       "                                                   &#x27;mileage_mpg&#x27;, &#x27;engine_cc&#x27;,\n",
       "                                                   &#x27;max_power_bhp&#x27;, &#x27;torque_nm&#x27;,\n",
       "                                                   &#x27;seats&#x27;]),\n",
       "                                                 (&#x27;cat&#x27;,\n",
       "                                                  Pipeline(steps=[(&#x27;imputer&#x27;,\n",
       "                                                                   SimpleImputer(fill_value=&#x27;missing&#x27;,\n",
       "                                                                                 strategy=&#x27;constant&#x27;)),\n",
       "                                                                  (&#x27;encoder&#x27;,\n",
       "                                                                   OneHotEncoder(handle_unknown=&#x27;ignore&#x27;,\n",
       "                                                                                 sparse_output=False))]),\n",
       "                                                  [&#x27;company&#x27;, &#x27;owner&#x27;, &#x27;fuel&#x27;,\n",
       "                                                   &#x27;seller_type&#x27;,\n",
       "                                                   &#x27;transmission&#x27;])])),\n",
       "                (&#x27;reg&#x27;,\n",
       "                 RandomForestRegressor(max_depth=5, n_estimators=10,\n",
       "                                       random_state=42))])</pre></div></div></div><div class=\"sk-serial\"><div class=\"sk-item sk-dashed-wrapped\"><div class=\"sk-label-container\"><div class=\"sk-label sk-toggleable\"><input class=\"sk-toggleable__control sk-hidden--visually\" id=\"sk-estimator-id-2\" type=\"checkbox\" ><label for=\"sk-estimator-id-2\" class=\"sk-toggleable__label sk-toggleable__label-arrow\">pre: ColumnTransformer</label><div class=\"sk-toggleable__content\"><pre>ColumnTransformer(transformers=[(&#x27;num&#x27;,\n",
       "                                 Pipeline(steps=[(&#x27;imputer&#x27;,\n",
       "                                                  SimpleImputer(strategy=&#x27;median&#x27;)),\n",
       "                                                 (&#x27;scaler&#x27;, StandardScaler())]),\n",
       "                                 [&#x27;year&#x27;, &#x27;km_driven&#x27;, &#x27;mileage_mpg&#x27;,\n",
       "                                  &#x27;engine_cc&#x27;, &#x27;max_power_bhp&#x27;, &#x27;torque_nm&#x27;,\n",
       "                                  &#x27;seats&#x27;]),\n",
       "                                (&#x27;cat&#x27;,\n",
       "                                 Pipeline(steps=[(&#x27;imputer&#x27;,\n",
       "                                                  SimpleImputer(fill_value=&#x27;missing&#x27;,\n",
       "                                                                strategy=&#x27;constant&#x27;)),\n",
       "                                                 (&#x27;encoder&#x27;,\n",
       "                                                  OneHotEncoder(handle_unknown=&#x27;ignore&#x27;,\n",
       "                                                                sparse_output=False))]),\n",
       "                                 [&#x27;company&#x27;, &#x27;owner&#x27;, &#x27;fuel&#x27;, &#x27;seller_type&#x27;,\n",
       "                                  &#x27;transmission&#x27;])])</pre></div></div></div><div class=\"sk-parallel\"><div class=\"sk-parallel-item\"><div class=\"sk-item\"><div class=\"sk-label-container\"><div class=\"sk-label sk-toggleable\"><input class=\"sk-toggleable__control sk-hidden--visually\" id=\"sk-estimator-id-3\" type=\"checkbox\" ><label for=\"sk-estimator-id-3\" class=\"sk-toggleable__label sk-toggleable__label-arrow\">num</label><div class=\"sk-toggleable__content\"><pre>[&#x27;year&#x27;, &#x27;km_driven&#x27;, &#x27;mileage_mpg&#x27;, &#x27;engine_cc&#x27;, &#x27;max_power_bhp&#x27;, &#x27;torque_nm&#x27;, &#x27;seats&#x27;]</pre></div></div></div><div class=\"sk-serial\"><div class=\"sk-item\"><div class=\"sk-serial\"><div class=\"sk-item\"><div class=\"sk-estimator sk-toggleable\"><input class=\"sk-toggleable__control sk-hidden--visually\" id=\"sk-estimator-id-4\" type=\"checkbox\" ><label for=\"sk-estimator-id-4\" class=\"sk-toggleable__label sk-toggleable__label-arrow\">SimpleImputer</label><div class=\"sk-toggleable__content\"><pre>SimpleImputer(strategy=&#x27;median&#x27;)</pre></div></div></div><div class=\"sk-item\"><div class=\"sk-estimator sk-toggleable\"><input class=\"sk-toggleable__control sk-hidden--visually\" id=\"sk-estimator-id-5\" type=\"checkbox\" ><label for=\"sk-estimator-id-5\" class=\"sk-toggleable__label sk-toggleable__label-arrow\">StandardScaler</label><div class=\"sk-toggleable__content\"><pre>StandardScaler()</pre></div></div></div></div></div></div></div></div><div class=\"sk-parallel-item\"><div class=\"sk-item\"><div class=\"sk-label-container\"><div class=\"sk-label sk-toggleable\"><input class=\"sk-toggleable__control sk-hidden--visually\" id=\"sk-estimator-id-6\" type=\"checkbox\" ><label for=\"sk-estimator-id-6\" class=\"sk-toggleable__label sk-toggleable__label-arrow\">cat</label><div class=\"sk-toggleable__content\"><pre>[&#x27;company&#x27;, &#x27;owner&#x27;, &#x27;fuel&#x27;, &#x27;seller_type&#x27;, &#x27;transmission&#x27;]</pre></div></div></div><div class=\"sk-serial\"><div class=\"sk-item\"><div class=\"sk-serial\"><div class=\"sk-item\"><div class=\"sk-estimator sk-toggleable\"><input class=\"sk-toggleable__control sk-hidden--visually\" id=\"sk-estimator-id-7\" type=\"checkbox\" ><label for=\"sk-estimator-id-7\" class=\"sk-toggleable__label sk-toggleable__label-arrow\">SimpleImputer</label><div class=\"sk-toggleable__content\"><pre>SimpleImputer(fill_value=&#x27;missing&#x27;, strategy=&#x27;constant&#x27;)</pre></div></div></div><div class=\"sk-item\"><div class=\"sk-estimator sk-toggleable\"><input class=\"sk-toggleable__control sk-hidden--visually\" id=\"sk-estimator-id-8\" type=\"checkbox\" ><label for=\"sk-estimator-id-8\" class=\"sk-toggleable__label sk-toggleable__label-arrow\">OneHotEncoder</label><div class=\"sk-toggleable__content\"><pre>OneHotEncoder(handle_unknown=&#x27;ignore&#x27;, sparse_output=False)</pre></div></div></div></div></div></div></div></div></div></div><div class=\"sk-item\"><div class=\"sk-estimator sk-toggleable\"><input class=\"sk-toggleable__control sk-hidden--visually\" id=\"sk-estimator-id-9\" type=\"checkbox\" ><label for=\"sk-estimator-id-9\" class=\"sk-toggleable__label sk-toggleable__label-arrow\">RandomForestRegressor</label><div class=\"sk-toggleable__content\"><pre>RandomForestRegressor(max_depth=5, n_estimators=10, random_state=42)</pre></div></div></div></div></div></div></div>"
      ],
      "text/plain": [
       "Pipeline(steps=[('pre',\n",
       "                 ColumnTransformer(transformers=[('num',\n",
       "                                                  Pipeline(steps=[('imputer',\n",
       "                                                                   SimpleImputer(strategy='median')),\n",
       "                                                                  ('scaler',\n",
       "                                                                   StandardScaler())]),\n",
       "                                                  ['year', 'km_driven',\n",
       "                                                   'mileage_mpg', 'engine_cc',\n",
       "                                                   'max_power_bhp', 'torque_nm',\n",
       "                                                   'seats']),\n",
       "                                                 ('cat',\n",
       "                                                  Pipeline(steps=[('imputer',\n",
       "                                                                   SimpleImputer(fill_value='missing',\n",
       "                                                                                 strategy='constant')),\n",
       "                                                                  ('encoder',\n",
       "                                                                   OneHotEncoder(handle_unknown='ignore',\n",
       "                                                                                 sparse_output=False))]),\n",
       "                                                  ['company', 'owner', 'fuel',\n",
       "                                                   'seller_type',\n",
       "                                                   'transmission'])])),\n",
       "                ('reg',\n",
       "                 RandomForestRegressor(max_depth=5, n_estimators=10,\n",
       "                                       random_state=42))])"
      ]
     },
     "execution_count": 27,
     "metadata": {},
     "output_type": "execute_result"
    }
   ],
   "source": [
    "num_pipe = Pipeline(\n",
    "    steps=[\n",
    "        (\"imputer\", SimpleImputer(strategy=\"median\")),\n",
    "        (\"scaler\", StandardScaler())\n",
    "    ]\n",
    ")\n",
    "\n",
    "cat_pipe = Pipeline(\n",
    "    steps=[\n",
    "        (\"imputer\", SimpleImputer(strategy=\"constant\", fill_value=\"missing\")),\n",
    "        (\"encoder\", OneHotEncoder(handle_unknown=\"ignore\", sparse_output=False))\n",
    "    ]\n",
    ")\n",
    "\n",
    "preprocessor = ColumnTransformer(\n",
    "    transformers=[\n",
    "        (\"num\", num_pipe, num_cols),\n",
    "        (\"cat\", cat_pipe, cat_cols )\n",
    "    ]\n",
    ")\n",
    "\n",
    "regressor = RandomForestRegressor(\n",
    "    n_estimators=10,\n",
    "    max_depth= 5,\n",
    "    random_state= 42\n",
    ")\n",
    "\n",
    "rf_model = Pipeline(steps=[\n",
    "    (\"pre\", preprocessor),\n",
    "    (\"reg\", regressor)\n",
    "])\n",
    "\n",
    "rf_model.fit(X_train, y_train)"
   ]
  },
  {
   "cell_type": "code",
   "execution_count": null,
   "id": "2b326884",
   "metadata": {},
   "outputs": [],
   "source": []
  }
 ],
 "metadata": {
  "kernelspec": {
   "display_name": "myenv",
   "language": "python",
   "name": "python3"
  },
  "language_info": {
   "codemirror_mode": {
    "name": "ipython",
    "version": 3
   },
   "file_extension": ".py",
   "mimetype": "text/x-python",
   "name": "python",
   "nbconvert_exporter": "python",
   "pygments_lexer": "ipython3",
   "version": "3.12.4"
  }
 },
 "nbformat": 4,
 "nbformat_minor": 5
}
